{
 "cells": [
  {
   "cell_type": "code",
   "execution_count": 1,
   "metadata": {
    "collapsed": true
   },
   "outputs": [],
   "source": [
    "#Following : https://blog.thoughtram.io/machine-learning/2016/09/23/beginning-ml-with-keras-and-tensorflow.html\n",
    "import numpy as np\n",
    "from keras.models import Sequential\n",
    "from keras.layers.core import Activation, Dense"
   ]
  },
  {
   "cell_type": "code",
   "execution_count": 2,
   "metadata": {
    "collapsed": true
   },
   "outputs": [],
   "source": [
    "# Four different states of XOR gate\n",
    "training_data = np.array([[0,0],[0,1],[1,0],[1,1]],\"float32\")"
   ]
  },
  {
   "cell_type": "code",
   "execution_count": 4,
   "metadata": {},
   "outputs": [],
   "source": [
    "# Four expected results in the same order\n",
    "target_data = np.array([[0],[1],[1],[0]],\"float32\")"
   ]
  },
  {
   "cell_type": "code",
   "execution_count": 5,
   "metadata": {
    "collapsed": true
   },
   "outputs": [],
   "source": [
    "model = Sequential()"
   ]
  },
  {
   "cell_type": "code",
   "execution_count": 6,
   "metadata": {
    "collapsed": true
   },
   "outputs": [],
   "source": [
    "model.add(Dense(16, input_dim=2, activation='relu'))\n",
    "model.add(Dense(1, activation='sigmoid'))"
   ]
  },
  {
   "cell_type": "code",
   "execution_count": 7,
   "metadata": {
    "collapsed": true
   },
   "outputs": [],
   "source": [
    "# 'binary_accuracy', which tells how good the predictions of our NN after each epoch (.75(75%) = 1(100%))\n",
    "model.compile(loss='mean_squared_error',\n",
    "              optimizer='adam',\n",
    "              metrics=['binary_accuracy'])\n"
   ]
  },
  {
   "cell_type": "code",
   "execution_count": 11,
   "metadata": {},
   "outputs": [
    {
     "name": "stdout",
     "output_type": "stream",
     "text": [
      "Epoch 1/10\n",
      "0s - loss: 0.0759 - binary_accuracy: 1.0000\n",
      "Epoch 2/10\n",
      "0s - loss: 0.0756 - binary_accuracy: 1.0000\n",
      "Epoch 3/10\n",
      "0s - loss: 0.0754 - binary_accuracy: 1.0000\n",
      "Epoch 4/10\n",
      "0s - loss: 0.0751 - binary_accuracy: 1.0000\n",
      "Epoch 5/10\n",
      "0s - loss: 0.0748 - binary_accuracy: 1.0000\n",
      "Epoch 6/10\n",
      "0s - loss: 0.0746 - binary_accuracy: 1.0000\n",
      "Epoch 7/10\n",
      "0s - loss: 0.0743 - binary_accuracy: 1.0000\n",
      "Epoch 8/10\n",
      "0s - loss: 0.0740 - binary_accuracy: 1.0000\n",
      "Epoch 9/10\n",
      "0s - loss: 0.0738 - binary_accuracy: 1.0000\n",
      "Epoch 10/10\n",
      "0s - loss: 0.0735 - binary_accuracy: 1.0000\n"
     ]
    },
    {
     "data": {
      "text/plain": [
       "<keras.callbacks.History at 0x1075d19d0>"
      ]
     },
     "execution_count": 11,
     "metadata": {},
     "output_type": "execute_result"
    }
   ],
   "source": [
    "#Training a neural network happens in iterations so called epochs.\n",
    "model.fit(training_data, target_data, nb_epoch=10, verbose=2)"
   ]
  },
  {
   "cell_type": "code",
   "execution_count": 9,
   "metadata": {},
   "outputs": [
    {
     "name": "stdout",
     "output_type": "stream",
     "text": [
      "[[ 0.]\n",
      " [ 1.]\n",
      " [ 1.]\n",
      " [ 0.]]\n"
     ]
    }
   ],
   "source": [
    "print model.predict(training_data).round()\n"
   ]
  },
  {
   "cell_type": "code",
   "execution_count": null,
   "metadata": {
    "collapsed": true
   },
   "outputs": [],
   "source": []
  }
 ],
 "metadata": {
  "kernelspec": {
   "display_name": "Python 2",
   "language": "python",
   "name": "python2"
  },
  "language_info": {
   "codemirror_mode": {
    "name": "ipython",
    "version": 2
   },
   "file_extension": ".py",
   "mimetype": "text/x-python",
   "name": "python",
   "nbconvert_exporter": "python",
   "pygments_lexer": "ipython2",
   "version": "2.7.13"
  }
 },
 "nbformat": 4,
 "nbformat_minor": 2
}
